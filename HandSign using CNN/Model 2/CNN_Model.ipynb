{
 "cells": [
  {
   "cell_type": "code",
   "execution_count": 1,
   "id": "61778e91-eb5a-48c3-8ffa-a2fa2670b2eb",
   "metadata": {},
   "outputs": [],
   "source": [
    "import numpy as np\n",
    "import pandas as pd\n",
    "import random\n",
    "import matplotlib.pyplot as plt\n",
    "import tensorflow as tf\n",
    "import os\n",
    "from tensorflow.keras.preprocessing.image import ImageDataGenerator\n",
    "from tensorflow.keras.preprocessing import image\n",
    "from tensorflow.keras.optimizers import RMSprop\n",
    "from tensorflow.keras.models import Sequential\n",
    "from keras.layers import Convolution2D as Conv2D\n",
    "from keras.layers import MaxPooling2D, Dense, Flatten"
   ]
  },
  {
   "cell_type": "code",
   "execution_count": 2,
   "id": "38ca5622-1d8e-42e8-970b-dabc1d074ade",
   "metadata": {},
   "outputs": [
    {
     "data": {
      "text/plain": [
       "\"train = ImageDataGenerator(rescale= 1/255)\\ntest= ImageDataGenerator(rescale= 1/255)\\ntrain_dataset = train.flow_from_directory('D:\\\\Programming\\\\HandSign using CNN\\\\Model 2\\\\Train')\\ntest_dataset = test.flow_from_directory('D:\\\\Programming\\\\HandSign using CNN\\\\Model 2\\\\Test')\""
      ]
     },
     "execution_count": 2,
     "metadata": {},
     "output_type": "execute_result"
    }
   ],
   "source": [
    "test= ImageDataGenerator(rescale= 1/255)\n",
    "\n",
    "\n",
    "'''train = ImageDataGenerator(rescale= 1/255)\n",
    "test= ImageDataGenerator(rescale= 1/255)\n",
    "train_dataset = train.flow_from_directory('D:\\Programming\\HandSign using CNN\\Model 2\\Train')\n",
    "test_dataset = test.flow_from_directory('D:\\Programming\\HandSign using CNN\\Model 2\\Test')'''"
   ]
  },
  {
   "cell_type": "code",
   "execution_count": 3,
   "id": "68dca3f1-d168-4be5-9151-408c3886a4be",
   "metadata": {},
   "outputs": [
    {
     "name": "stdout",
     "output_type": "stream",
     "text": [
      "Found 2150 images belonging to 36 classes.\n",
      "Found 360 images belonging to 36 classes.\n",
      "Found 360 images belonging to 36 classes.\n"
     ]
    },
    {
     "data": {
      "text/plain": [
       "\"train_dataset = train.flow_from_directory('D:\\\\Programming\\\\HandSign using CNN\\\\Model 2\\\\Train',\\n                                          rescale\\n                                          target_size = (200,200),\\n                                          batch_size = 8,\\n                                         class_mode ='categorical')\\ntest_dataset = train.flow_from_directory('D:\\\\Programming\\\\HandSign using CNN\\\\Model 2\\\\Test',\\n                                          target_size = (200,200),\\n                                          batch_size = 8,\\n                                         class_mode ='categorical')\""
      ]
     },
     "execution_count": 3,
     "metadata": {},
     "output_type": "execute_result"
    }
   ],
   "source": [
    "datagen = ImageDataGenerator(\n",
    "    rescale= 1/255,\n",
    "    rotation_range=15,  # Randomly rotate images by up to 15 degrees\n",
    "    width_shift_range=0.2,  # Shift images horizontally by up to 20%\n",
    "    height_shift_range=0.2,  # Shift images vertically by up to 20%\n",
    "    shear_range=0.2,  # Shear the image slightly\n",
    "    zoom_range=0.2,  # Zoom in or out of the image\n",
    "    horizontal_flip=True,  # Flip images horizontally with 50% probability\n",
    "    fill_mode='nearest'  # Fill mode for padding\n",
    ")\n",
    "\n",
    "\n",
    "train_generator = datagen.flow_from_directory(\n",
    "    'D:\\Programming\\HandSign using CNN\\Model 2\\Train',  # Target directory\n",
    "    target_size=(224, 224), \n",
    "    batch_size=16,\n",
    "    class_mode='categorical'  \n",
    ")\n",
    "\n",
    "test_generator = datagen.flow_from_directory(\n",
    "    'D:\\Programming\\HandSign using CNN\\Model 2\\Test',\n",
    "    target_size=(224, 224), \n",
    "    batch_size=16,\n",
    "    class_mode='categorical'  \n",
    ")\n",
    "\n",
    "\n",
    "test_dataset = test.flow_from_directory('D:\\Programming\\HandSign using CNN\\Model 2\\Test')\n",
    "\n",
    "'''train_dataset = train.flow_from_directory('D:\\Programming\\HandSign using CNN\\Model 2\\Train',\n",
    "                                          rescale\n",
    "                                          target_size = (200,200),\n",
    "                                          batch_size = 8,\n",
    "                                         class_mode ='categorical')\n",
    "test_dataset = train.flow_from_directory('D:\\Programming\\HandSign using CNN\\Model 2\\Test',\n",
    "                                          target_size = (200,200),\n",
    "                                          batch_size = 8,\n",
    "                                         class_mode ='categorical')'''"
   ]
  },
  {
   "cell_type": "code",
   "execution_count": 4,
   "id": "717f0838-b8d0-4f69-ac1f-2b328a8c500d",
   "metadata": {},
   "outputs": [
    {
     "data": {
      "text/plain": [
       "'def rgb_to_grayscale(rgb):\\n    return tf.image.rgb_to_grayscale(rgb)\\n\\ntrain_ds_bw = train_dataset.map(lambda x, y: (rgb_to_grayscale(x), y))\\ntest_ds_bw = test_dataset.map(lambda x, y: (rgb_to_grayscale(x), y))'"
      ]
     },
     "execution_count": 4,
     "metadata": {},
     "output_type": "execute_result"
    }
   ],
   "source": [
    "'''def rgb_to_grayscale(rgb):\n",
    "    return tf.image.rgb_to_grayscale(rgb)\n",
    "\n",
    "train_ds_bw = train_dataset.map(lambda x, y: (rgb_to_grayscale(x), y))\n",
    "test_ds_bw = test_dataset.map(lambda x, y: (rgb_to_grayscale(x), y))'''"
   ]
  },
  {
   "cell_type": "code",
   "execution_count": 5,
   "id": "4ddcc1c9-a091-4cda-b647-7db97f8bde4e",
   "metadata": {},
   "outputs": [
    {
     "data": {
      "text/plain": [
       "'train_dataset_bw.class_indices'"
      ]
     },
     "execution_count": 5,
     "metadata": {},
     "output_type": "execute_result"
    }
   ],
   "source": [
    "'''train_dataset_bw.class_indices'''"
   ]
  },
  {
   "cell_type": "code",
   "execution_count": 6,
   "id": "dc8aa923-8cfb-418b-86c1-cac7015a0e57",
   "metadata": {},
   "outputs": [],
   "source": [
    "from keras.callbacks import TensorBoard"
   ]
  },
  {
   "cell_type": "code",
   "execution_count": 7,
   "id": "387ae446-6f7b-404e-8584-f99923c1d96a",
   "metadata": {},
   "outputs": [],
   "source": [
    "log_dir = os.path.join('Logs')\n",
    "tb_callback = TensorBoard(log_dir=log_dir)"
   ]
  },
  {
   "cell_type": "code",
   "execution_count": 8,
   "id": "b822ed83-fd04-47a0-be47-7a890689ddf9",
   "metadata": {},
   "outputs": [
    {
     "name": "stderr",
     "output_type": "stream",
     "text": [
      "C:\\Users\\saket\\AppData\\Local\\Programs\\Python\\Python311\\Lib\\site-packages\\keras\\src\\layers\\convolutional\\base_conv.py:99: UserWarning: Do not pass an `input_shape`/`input_dim` argument to a layer. When using Sequential models, prefer using an `Input(shape)` object as the first layer in the model instead.\n",
      "  super().__init__(\n"
     ]
    }
   ],
   "source": [
    "model = tf.keras.models.Sequential([\n",
    "                    Conv2D(32, (3,3), activation='relu', input_shape = (224,224,3)),\n",
    "                    MaxPooling2D((2,2)),\n",
    "                    \n",
    "                    Conv2D(48, (3,3), activation= 'relu'),\n",
    "                    MaxPooling2D((2,2)),\n",
    "\n",
    "                    Conv2D(64, (3,3), activation= 'relu'),\n",
    "                    MaxPooling2D((2,2)),\n",
    "\n",
    "                    Flatten(),\n",
    "                    Dense(64, activation= 'relu'),\n",
    "                    Dense(36, activation = 'softmax')\n",
    "])"
   ]
  },
  {
   "cell_type": "code",
   "execution_count": 9,
   "id": "1e4ded48-94a7-47bb-a528-c74f4ed2e803",
   "metadata": {},
   "outputs": [],
   "source": [
    "model.compile(loss = 'categorical_crossentropy', optimizer = 'adam', metrics = ['accuracy'])"
   ]
  },
  {
   "cell_type": "code",
   "execution_count": 10,
   "id": "31967537-71b4-4fc1-a58a-a35d3fee1e50",
   "metadata": {},
   "outputs": [
    {
     "name": "stdout",
     "output_type": "stream",
     "text": [
      "Epoch 1/100\n"
     ]
    },
    {
     "name": "stderr",
     "output_type": "stream",
     "text": [
      "C:\\Users\\saket\\AppData\\Local\\Programs\\Python\\Python311\\Lib\\site-packages\\keras\\src\\trainers\\data_adapters\\py_dataset_adapter.py:120: UserWarning: Your `PyDataset` class should call `super().__init__(**kwargs)` in its constructor. `**kwargs` can include `workers`, `use_multiprocessing`, `max_queue_size`. Do not pass these arguments to `fit()`, as they will be ignored.\n",
      "  self._warn_if_super_not_called()\n"
     ]
    },
    {
     "name": "stdout",
     "output_type": "stream",
     "text": [
      "\u001b[1m135/135\u001b[0m \u001b[32m━━━━━━━━━━━━━━━━━━━━\u001b[0m\u001b[37m\u001b[0m \u001b[1m42s\u001b[0m 289ms/step - accuracy: 0.0373 - loss: 3.5726 - val_accuracy: 0.1111 - val_loss: 3.1769\n",
      "Epoch 2/100\n",
      "\u001b[1m135/135\u001b[0m \u001b[32m━━━━━━━━━━━━━━━━━━━━\u001b[0m\u001b[37m\u001b[0m \u001b[1m33s\u001b[0m 241ms/step - accuracy: 0.1557 - loss: 2.9675 - val_accuracy: 0.2250 - val_loss: 2.4594\n",
      "Epoch 3/100\n",
      "\u001b[1m135/135\u001b[0m \u001b[32m━━━━━━━━━━━━━━━━━━━━\u001b[0m\u001b[37m\u001b[0m \u001b[1m33s\u001b[0m 239ms/step - accuracy: 0.2514 - loss: 2.4006 - val_accuracy: 0.2833 - val_loss: 2.1567\n",
      "Epoch 4/100\n",
      "\u001b[1m135/135\u001b[0m \u001b[32m━━━━━━━━━━━━━━━━━━━━\u001b[0m\u001b[37m\u001b[0m \u001b[1m33s\u001b[0m 236ms/step - accuracy: 0.3356 - loss: 2.0610 - val_accuracy: 0.3667 - val_loss: 1.8982\n",
      "Epoch 5/100\n",
      "\u001b[1m135/135\u001b[0m \u001b[32m━━━━━━━━━━━━━━━━━━━━\u001b[0m\u001b[37m\u001b[0m \u001b[1m33s\u001b[0m 241ms/step - accuracy: 0.3633 - loss: 1.8749 - val_accuracy: 0.3917 - val_loss: 1.7435\n",
      "Epoch 6/100\n",
      "\u001b[1m135/135\u001b[0m \u001b[32m━━━━━━━━━━━━━━━━━━━━\u001b[0m\u001b[37m\u001b[0m \u001b[1m33s\u001b[0m 239ms/step - accuracy: 0.4281 - loss: 1.6691 - val_accuracy: 0.4250 - val_loss: 1.5963\n",
      "Epoch 7/100\n",
      "\u001b[1m135/135\u001b[0m \u001b[32m━━━━━━━━━━━━━━━━━━━━\u001b[0m\u001b[37m\u001b[0m \u001b[1m36s\u001b[0m 261ms/step - accuracy: 0.4637 - loss: 1.5810 - val_accuracy: 0.4694 - val_loss: 1.5274\n",
      "Epoch 8/100\n",
      "\u001b[1m135/135\u001b[0m \u001b[32m━━━━━━━━━━━━━━━━━━━━\u001b[0m\u001b[37m\u001b[0m \u001b[1m34s\u001b[0m 243ms/step - accuracy: 0.4892 - loss: 1.5215 - val_accuracy: 0.4806 - val_loss: 1.4484\n",
      "Epoch 9/100\n",
      "\u001b[1m135/135\u001b[0m \u001b[32m━━━━━━━━━━━━━━━━━━━━\u001b[0m\u001b[37m\u001b[0m \u001b[1m34s\u001b[0m 242ms/step - accuracy: 0.5039 - loss: 1.4304 - val_accuracy: 0.5333 - val_loss: 1.3019\n",
      "Epoch 10/100\n",
      "\u001b[1m135/135\u001b[0m \u001b[32m━━━━━━━━━━━━━━━━━━━━\u001b[0m\u001b[37m\u001b[0m \u001b[1m34s\u001b[0m 244ms/step - accuracy: 0.5172 - loss: 1.3564 - val_accuracy: 0.5528 - val_loss: 1.2941\n",
      "Epoch 11/100\n",
      "\u001b[1m135/135\u001b[0m \u001b[32m━━━━━━━━━━━━━━━━━━━━\u001b[0m\u001b[37m\u001b[0m \u001b[1m33s\u001b[0m 241ms/step - accuracy: 0.5351 - loss: 1.2901 - val_accuracy: 0.5972 - val_loss: 1.1349\n",
      "Epoch 12/100\n",
      "\u001b[1m135/135\u001b[0m \u001b[32m━━━━━━━━━━━━━━━━━━━━\u001b[0m\u001b[37m\u001b[0m \u001b[1m36s\u001b[0m 259ms/step - accuracy: 0.5825 - loss: 1.1843 - val_accuracy: 0.5778 - val_loss: 1.1538\n",
      "Epoch 13/100\n",
      "\u001b[1m135/135\u001b[0m \u001b[32m━━━━━━━━━━━━━━━━━━━━\u001b[0m\u001b[37m\u001b[0m \u001b[1m34s\u001b[0m 245ms/step - accuracy: 0.5889 - loss: 1.1335 - val_accuracy: 0.5972 - val_loss: 1.1246\n",
      "Epoch 14/100\n",
      "\u001b[1m135/135\u001b[0m \u001b[32m━━━━━━━━━━━━━━━━━━━━\u001b[0m\u001b[37m\u001b[0m \u001b[1m34s\u001b[0m 248ms/step - accuracy: 0.6014 - loss: 1.0619 - val_accuracy: 0.5694 - val_loss: 1.0958\n",
      "Epoch 15/100\n",
      "\u001b[1m135/135\u001b[0m \u001b[32m━━━━━━━━━━━━━━━━━━━━\u001b[0m\u001b[37m\u001b[0m \u001b[1m33s\u001b[0m 243ms/step - accuracy: 0.6030 - loss: 1.0196 - val_accuracy: 0.6722 - val_loss: 0.8542\n",
      "Epoch 16/100\n",
      "\u001b[1m135/135\u001b[0m \u001b[32m━━━━━━━━━━━━━━━━━━━━\u001b[0m\u001b[37m\u001b[0m \u001b[1m34s\u001b[0m 248ms/step - accuracy: 0.6250 - loss: 1.0405 - val_accuracy: 0.6167 - val_loss: 1.0419\n",
      "Epoch 17/100\n",
      "\u001b[1m135/135\u001b[0m \u001b[32m━━━━━━━━━━━━━━━━━━━━\u001b[0m\u001b[37m\u001b[0m \u001b[1m34s\u001b[0m 250ms/step - accuracy: 0.6331 - loss: 1.0469 - val_accuracy: 0.6417 - val_loss: 0.9668\n",
      "Epoch 18/100\n",
      "\u001b[1m135/135\u001b[0m \u001b[32m━━━━━━━━━━━━━━━━━━━━\u001b[0m\u001b[37m\u001b[0m \u001b[1m34s\u001b[0m 245ms/step - accuracy: 0.6502 - loss: 0.9197 - val_accuracy: 0.6250 - val_loss: 0.9696\n",
      "Epoch 19/100\n",
      "\u001b[1m135/135\u001b[0m \u001b[32m━━━━━━━━━━━━━━━━━━━━\u001b[0m\u001b[37m\u001b[0m \u001b[1m34s\u001b[0m 245ms/step - accuracy: 0.6716 - loss: 0.9251 - val_accuracy: 0.6361 - val_loss: 0.8822\n",
      "Epoch 20/100\n",
      "\u001b[1m135/135\u001b[0m \u001b[32m━━━━━━━━━━━━━━━━━━━━\u001b[0m\u001b[37m\u001b[0m \u001b[1m34s\u001b[0m 248ms/step - accuracy: 0.6816 - loss: 0.8522 - val_accuracy: 0.6583 - val_loss: 1.0097\n",
      "Epoch 21/100\n",
      "\u001b[1m135/135\u001b[0m \u001b[32m━━━━━━━━━━━━━━━━━━━━\u001b[0m\u001b[37m\u001b[0m \u001b[1m34s\u001b[0m 249ms/step - accuracy: 0.6428 - loss: 0.9286 - val_accuracy: 0.6556 - val_loss: 0.8600\n",
      "Epoch 22/100\n",
      "\u001b[1m135/135\u001b[0m \u001b[32m━━━━━━━━━━━━━━━━━━━━\u001b[0m\u001b[37m\u001b[0m \u001b[1m34s\u001b[0m 245ms/step - accuracy: 0.6745 - loss: 0.8900 - val_accuracy: 0.7056 - val_loss: 0.7605\n",
      "Epoch 23/100\n",
      "\u001b[1m135/135\u001b[0m \u001b[32m━━━━━━━━━━━━━━━━━━━━\u001b[0m\u001b[37m\u001b[0m \u001b[1m34s\u001b[0m 248ms/step - accuracy: 0.7035 - loss: 0.8284 - val_accuracy: 0.6750 - val_loss: 0.8446\n",
      "Epoch 24/100\n",
      "\u001b[1m135/135\u001b[0m \u001b[32m━━━━━━━━━━━━━━━━━━━━\u001b[0m\u001b[37m\u001b[0m \u001b[1m35s\u001b[0m 257ms/step - accuracy: 0.7114 - loss: 0.7910 - val_accuracy: 0.7278 - val_loss: 0.7097\n",
      "Epoch 25/100\n",
      "\u001b[1m135/135\u001b[0m \u001b[32m━━━━━━━━━━━━━━━━━━━━\u001b[0m\u001b[37m\u001b[0m \u001b[1m35s\u001b[0m 256ms/step - accuracy: 0.7300 - loss: 0.7616 - val_accuracy: 0.7083 - val_loss: 0.7978\n",
      "Epoch 26/100\n",
      "\u001b[1m135/135\u001b[0m \u001b[32m━━━━━━━━━━━━━━━━━━━━\u001b[0m\u001b[37m\u001b[0m \u001b[1m35s\u001b[0m 257ms/step - accuracy: 0.7177 - loss: 0.7323 - val_accuracy: 0.6806 - val_loss: 0.9162\n",
      "Epoch 27/100\n",
      "\u001b[1m135/135\u001b[0m \u001b[32m━━━━━━━━━━━━━━━━━━━━\u001b[0m\u001b[37m\u001b[0m \u001b[1m36s\u001b[0m 261ms/step - accuracy: 0.7418 - loss: 0.7237 - val_accuracy: 0.6556 - val_loss: 0.9252\n",
      "Epoch 28/100\n",
      "\u001b[1m135/135\u001b[0m \u001b[32m━━━━━━━━━━━━━━━━━━━━\u001b[0m\u001b[37m\u001b[0m \u001b[1m37s\u001b[0m 265ms/step - accuracy: 0.7324 - loss: 0.7308 - val_accuracy: 0.7417 - val_loss: 0.7335\n",
      "Epoch 29/100\n",
      "\u001b[1m135/135\u001b[0m \u001b[32m━━━━━━━━━━━━━━━━━━━━\u001b[0m\u001b[37m\u001b[0m \u001b[1m37s\u001b[0m 267ms/step - accuracy: 0.7367 - loss: 0.7279 - val_accuracy: 0.7167 - val_loss: 0.8273\n",
      "Epoch 30/100\n",
      "\u001b[1m135/135\u001b[0m \u001b[32m━━━━━━━━━━━━━━━━━━━━\u001b[0m\u001b[37m\u001b[0m \u001b[1m36s\u001b[0m 264ms/step - accuracy: 0.7524 - loss: 0.6809 - val_accuracy: 0.7333 - val_loss: 0.7260\n",
      "Epoch 31/100\n",
      "\u001b[1m135/135\u001b[0m \u001b[32m━━━━━━━━━━━━━━━━━━━━\u001b[0m\u001b[37m\u001b[0m \u001b[1m37s\u001b[0m 268ms/step - accuracy: 0.7766 - loss: 0.6818 - val_accuracy: 0.7500 - val_loss: 0.6787\n",
      "Epoch 32/100\n",
      "\u001b[1m135/135\u001b[0m \u001b[32m━━━━━━━━━━━━━━━━━━━━\u001b[0m\u001b[37m\u001b[0m \u001b[1m39s\u001b[0m 278ms/step - accuracy: 0.7653 - loss: 0.6615 - val_accuracy: 0.7361 - val_loss: 0.7528\n",
      "Epoch 33/100\n",
      "\u001b[1m135/135\u001b[0m \u001b[32m━━━━━━━━━━━━━━━━━━━━\u001b[0m\u001b[37m\u001b[0m \u001b[1m39s\u001b[0m 278ms/step - accuracy: 0.7564 - loss: 0.6384 - val_accuracy: 0.7333 - val_loss: 0.7213\n",
      "Epoch 34/100\n",
      "\u001b[1m135/135\u001b[0m \u001b[32m━━━━━━━━━━━━━━━━━━━━\u001b[0m\u001b[37m\u001b[0m \u001b[1m38s\u001b[0m 278ms/step - accuracy: 0.7717 - loss: 0.5803 - val_accuracy: 0.7472 - val_loss: 0.6331\n",
      "Epoch 35/100\n",
      "\u001b[1m135/135\u001b[0m \u001b[32m━━━━━━━━━━━━━━━━━━━━\u001b[0m\u001b[37m\u001b[0m \u001b[1m39s\u001b[0m 279ms/step - accuracy: 0.7777 - loss: 0.6004 - val_accuracy: 0.6778 - val_loss: 0.8941\n",
      "Epoch 36/100\n",
      "\u001b[1m135/135\u001b[0m \u001b[32m━━━━━━━━━━━━━━━━━━━━\u001b[0m\u001b[37m\u001b[0m \u001b[1m37s\u001b[0m 267ms/step - accuracy: 0.7811 - loss: 0.5965 - val_accuracy: 0.7417 - val_loss: 0.7980\n",
      "Epoch 37/100\n",
      "\u001b[1m135/135\u001b[0m \u001b[32m━━━━━━━━━━━━━━━━━━━━\u001b[0m\u001b[37m\u001b[0m \u001b[1m38s\u001b[0m 274ms/step - accuracy: 0.7689 - loss: 0.6135 - val_accuracy: 0.7278 - val_loss: 0.6913\n",
      "Epoch 38/100\n",
      "\u001b[1m135/135\u001b[0m \u001b[32m━━━━━━━━━━━━━━━━━━━━\u001b[0m\u001b[37m\u001b[0m \u001b[1m37s\u001b[0m 271ms/step - accuracy: 0.7894 - loss: 0.5748 - val_accuracy: 0.7611 - val_loss: 0.6336\n",
      "Epoch 39/100\n",
      "\u001b[1m135/135\u001b[0m \u001b[32m━━━━━━━━━━━━━━━━━━━━\u001b[0m\u001b[37m\u001b[0m \u001b[1m37s\u001b[0m 270ms/step - accuracy: 0.7736 - loss: 0.6084 - val_accuracy: 0.7667 - val_loss: 0.7633\n",
      "Epoch 40/100\n",
      "\u001b[1m135/135\u001b[0m \u001b[32m━━━━━━━━━━━━━━━━━━━━\u001b[0m\u001b[37m\u001b[0m \u001b[1m39s\u001b[0m 285ms/step - accuracy: 0.7930 - loss: 0.5295 - val_accuracy: 0.7444 - val_loss: 0.6779\n",
      "Epoch 41/100\n",
      "\u001b[1m135/135\u001b[0m \u001b[32m━━━━━━━━━━━━━━━━━━━━\u001b[0m\u001b[37m\u001b[0m \u001b[1m42s\u001b[0m 300ms/step - accuracy: 0.7992 - loss: 0.5562 - val_accuracy: 0.7639 - val_loss: 0.6296\n",
      "Epoch 42/100\n",
      "\u001b[1m135/135\u001b[0m \u001b[32m━━━━━━━━━━━━━━━━━━━━\u001b[0m\u001b[37m\u001b[0m \u001b[1m37s\u001b[0m 271ms/step - accuracy: 0.7944 - loss: 0.5828 - val_accuracy: 0.6722 - val_loss: 0.8599\n",
      "Epoch 43/100\n",
      "\u001b[1m135/135\u001b[0m \u001b[32m━━━━━━━━━━━━━━━━━━━━\u001b[0m\u001b[37m\u001b[0m \u001b[1m37s\u001b[0m 272ms/step - accuracy: 0.7751 - loss: 0.6062 - val_accuracy: 0.7361 - val_loss: 0.7771\n",
      "Epoch 44/100\n",
      "\u001b[1m135/135\u001b[0m \u001b[32m━━━━━━━━━━━━━━━━━━━━\u001b[0m\u001b[37m\u001b[0m \u001b[1m39s\u001b[0m 280ms/step - accuracy: 0.7986 - loss: 0.5731 - val_accuracy: 0.7639 - val_loss: 0.5753\n",
      "Epoch 45/100\n",
      "\u001b[1m135/135\u001b[0m \u001b[32m━━━━━━━━━━━━━━━━━━━━\u001b[0m\u001b[37m\u001b[0m \u001b[1m38s\u001b[0m 277ms/step - accuracy: 0.7983 - loss: 0.5477 - val_accuracy: 0.8028 - val_loss: 0.5086\n",
      "Epoch 46/100\n",
      "\u001b[1m135/135\u001b[0m \u001b[32m━━━━━━━━━━━━━━━━━━━━\u001b[0m\u001b[37m\u001b[0m \u001b[1m39s\u001b[0m 281ms/step - accuracy: 0.8145 - loss: 0.5602 - val_accuracy: 0.7583 - val_loss: 0.6740\n",
      "Epoch 47/100\n",
      "\u001b[1m135/135\u001b[0m \u001b[32m━━━━━━━━━━━━━━━━━━━━\u001b[0m\u001b[37m\u001b[0m \u001b[1m38s\u001b[0m 277ms/step - accuracy: 0.8188 - loss: 0.4905 - val_accuracy: 0.7389 - val_loss: 0.6931\n",
      "Epoch 48/100\n",
      "\u001b[1m135/135\u001b[0m \u001b[32m━━━━━━━━━━━━━━━━━━━━\u001b[0m\u001b[37m\u001b[0m \u001b[1m39s\u001b[0m 284ms/step - accuracy: 0.8113 - loss: 0.4775 - val_accuracy: 0.7583 - val_loss: 0.6842\n",
      "Epoch 49/100\n",
      "\u001b[1m135/135\u001b[0m \u001b[32m━━━━━━━━━━━━━━━━━━━━\u001b[0m\u001b[37m\u001b[0m \u001b[1m37s\u001b[0m 265ms/step - accuracy: 0.8174 - loss: 0.5023 - val_accuracy: 0.8111 - val_loss: 0.6034\n",
      "Epoch 50/100\n",
      "\u001b[1m135/135\u001b[0m \u001b[32m━━━━━━━━━━━━━━━━━━━━\u001b[0m\u001b[37m\u001b[0m \u001b[1m39s\u001b[0m 280ms/step - accuracy: 0.8122 - loss: 0.4943 - val_accuracy: 0.7639 - val_loss: 0.6851\n",
      "Epoch 51/100\n",
      "\u001b[1m135/135\u001b[0m \u001b[32m━━━━━━━━━━━━━━━━━━━━\u001b[0m\u001b[37m\u001b[0m \u001b[1m39s\u001b[0m 283ms/step - accuracy: 0.8192 - loss: 0.4712 - val_accuracy: 0.7500 - val_loss: 0.6894\n",
      "Epoch 52/100\n",
      "\u001b[1m135/135\u001b[0m \u001b[32m━━━━━━━━━━━━━━━━━━━━\u001b[0m\u001b[37m\u001b[0m \u001b[1m38s\u001b[0m 275ms/step - accuracy: 0.8136 - loss: 0.4671 - val_accuracy: 0.7667 - val_loss: 0.7462\n",
      "Epoch 53/100\n",
      "\u001b[1m135/135\u001b[0m \u001b[32m━━━━━━━━━━━━━━━━━━━━\u001b[0m\u001b[37m\u001b[0m \u001b[1m39s\u001b[0m 285ms/step - accuracy: 0.8087 - loss: 0.4913 - val_accuracy: 0.7944 - val_loss: 0.6084\n",
      "Epoch 54/100\n",
      "\u001b[1m135/135\u001b[0m \u001b[32m━━━━━━━━━━━━━━━━━━━━\u001b[0m\u001b[37m\u001b[0m \u001b[1m39s\u001b[0m 282ms/step - accuracy: 0.8148 - loss: 0.4820 - val_accuracy: 0.7639 - val_loss: 0.6812\n",
      "Epoch 55/100\n",
      "\u001b[1m135/135\u001b[0m \u001b[32m━━━━━━━━━━━━━━━━━━━━\u001b[0m\u001b[37m\u001b[0m \u001b[1m38s\u001b[0m 278ms/step - accuracy: 0.8498 - loss: 0.4092 - val_accuracy: 0.7806 - val_loss: 0.5873\n",
      "Epoch 56/100\n",
      "\u001b[1m135/135\u001b[0m \u001b[32m━━━━━━━━━━━━━━━━━━━━\u001b[0m\u001b[37m\u001b[0m \u001b[1m37s\u001b[0m 268ms/step - accuracy: 0.8343 - loss: 0.4716 - val_accuracy: 0.7611 - val_loss: 0.7903\n",
      "Epoch 57/100\n",
      "\u001b[1m135/135\u001b[0m \u001b[32m━━━━━━━━━━━━━━━━━━━━\u001b[0m\u001b[37m\u001b[0m \u001b[1m37s\u001b[0m 267ms/step - accuracy: 0.8291 - loss: 0.4528 - val_accuracy: 0.7472 - val_loss: 0.7920\n",
      "Epoch 58/100\n",
      "\u001b[1m135/135\u001b[0m \u001b[32m━━━━━━━━━━━━━━━━━━━━\u001b[0m\u001b[37m\u001b[0m \u001b[1m38s\u001b[0m 277ms/step - accuracy: 0.8145 - loss: 0.4762 - val_accuracy: 0.7639 - val_loss: 0.6678\n",
      "Epoch 59/100\n",
      "\u001b[1m135/135\u001b[0m \u001b[32m━━━━━━━━━━━━━━━━━━━━\u001b[0m\u001b[37m\u001b[0m \u001b[1m37s\u001b[0m 268ms/step - accuracy: 0.8162 - loss: 0.4651 - val_accuracy: 0.7583 - val_loss: 0.6061\n",
      "Epoch 60/100\n",
      "\u001b[1m135/135\u001b[0m \u001b[32m━━━━━━━━━━━━━━━━━━━━\u001b[0m\u001b[37m\u001b[0m \u001b[1m36s\u001b[0m 262ms/step - accuracy: 0.8253 - loss: 0.4363 - val_accuracy: 0.7583 - val_loss: 0.6478\n",
      "Epoch 61/100\n",
      "\u001b[1m135/135\u001b[0m \u001b[32m━━━━━━━━━━━━━━━━━━━━\u001b[0m\u001b[37m\u001b[0m \u001b[1m37s\u001b[0m 270ms/step - accuracy: 0.8301 - loss: 0.4259 - val_accuracy: 0.7528 - val_loss: 0.6962\n",
      "Epoch 62/100\n",
      "\u001b[1m135/135\u001b[0m \u001b[32m━━━━━━━━━━━━━━━━━━━━\u001b[0m\u001b[37m\u001b[0m \u001b[1m37s\u001b[0m 265ms/step - accuracy: 0.8480 - loss: 0.4086 - val_accuracy: 0.7222 - val_loss: 0.6956\n",
      "Epoch 63/100\n",
      "\u001b[1m135/135\u001b[0m \u001b[32m━━━━━━━━━━━━━━━━━━━━\u001b[0m\u001b[37m\u001b[0m \u001b[1m37s\u001b[0m 268ms/step - accuracy: 0.8484 - loss: 0.4113 - val_accuracy: 0.7667 - val_loss: 0.5811\n",
      "Epoch 64/100\n",
      "\u001b[1m135/135\u001b[0m \u001b[32m━━━━━━━━━━━━━━━━━━━━\u001b[0m\u001b[37m\u001b[0m \u001b[1m38s\u001b[0m 275ms/step - accuracy: 0.8376 - loss: 0.4060 - val_accuracy: 0.7417 - val_loss: 0.7319\n",
      "Epoch 65/100\n",
      "\u001b[1m135/135\u001b[0m \u001b[32m━━━━━━━━━━━━━━━━━━━━\u001b[0m\u001b[37m\u001b[0m \u001b[1m42s\u001b[0m 303ms/step - accuracy: 0.8550 - loss: 0.3998 - val_accuracy: 0.7722 - val_loss: 0.6996\n",
      "Epoch 66/100\n",
      "\u001b[1m135/135\u001b[0m \u001b[32m━━━━━━━━━━━━━━━━━━━━\u001b[0m\u001b[37m\u001b[0m \u001b[1m39s\u001b[0m 284ms/step - accuracy: 0.8522 - loss: 0.4369 - val_accuracy: 0.7750 - val_loss: 0.5406\n",
      "Epoch 67/100\n",
      "\u001b[1m135/135\u001b[0m \u001b[32m━━━━━━━━━━━━━━━━━━━━\u001b[0m\u001b[37m\u001b[0m \u001b[1m38s\u001b[0m 274ms/step - accuracy: 0.8534 - loss: 0.3780 - val_accuracy: 0.7500 - val_loss: 0.7922\n",
      "Epoch 68/100\n",
      "\u001b[1m135/135\u001b[0m \u001b[32m━━━━━━━━━━━━━━━━━━━━\u001b[0m\u001b[37m\u001b[0m \u001b[1m39s\u001b[0m 284ms/step - accuracy: 0.8725 - loss: 0.3866 - val_accuracy: 0.7889 - val_loss: 0.5930\n",
      "Epoch 69/100\n",
      "\u001b[1m135/135\u001b[0m \u001b[32m━━━━━━━━━━━━━━━━━━━━\u001b[0m\u001b[37m\u001b[0m \u001b[1m40s\u001b[0m 288ms/step - accuracy: 0.8477 - loss: 0.4035 - val_accuracy: 0.7194 - val_loss: 0.9015\n",
      "Epoch 70/100\n",
      "\u001b[1m135/135\u001b[0m \u001b[32m━━━━━━━━━━━━━━━━━━━━\u001b[0m\u001b[37m\u001b[0m \u001b[1m40s\u001b[0m 289ms/step - accuracy: 0.8580 - loss: 0.3765 - val_accuracy: 0.7806 - val_loss: 0.7342\n",
      "Epoch 71/100\n",
      "\u001b[1m135/135\u001b[0m \u001b[32m━━━━━━━━━━━━━━━━━━━━\u001b[0m\u001b[37m\u001b[0m \u001b[1m39s\u001b[0m 281ms/step - accuracy: 0.8594 - loss: 0.4077 - val_accuracy: 0.7833 - val_loss: 0.6738\n",
      "Epoch 72/100\n",
      "\u001b[1m135/135\u001b[0m \u001b[32m━━━━━━━━━━━━━━━━━━━━\u001b[0m\u001b[37m\u001b[0m \u001b[1m38s\u001b[0m 279ms/step - accuracy: 0.8768 - loss: 0.3585 - val_accuracy: 0.7889 - val_loss: 0.5830\n",
      "Epoch 73/100\n",
      "\u001b[1m135/135\u001b[0m \u001b[32m━━━━━━━━━━━━━━━━━━━━\u001b[0m\u001b[37m\u001b[0m \u001b[1m39s\u001b[0m 284ms/step - accuracy: 0.8540 - loss: 0.3823 - val_accuracy: 0.7361 - val_loss: 0.8072\n",
      "Epoch 74/100\n",
      "\u001b[1m135/135\u001b[0m \u001b[32m━━━━━━━━━━━━━━━━━━━━\u001b[0m\u001b[37m\u001b[0m \u001b[1m40s\u001b[0m 287ms/step - accuracy: 0.8607 - loss: 0.4057 - val_accuracy: 0.8111 - val_loss: 0.5935\n",
      "Epoch 75/100\n",
      "\u001b[1m135/135\u001b[0m \u001b[32m━━━━━━━━━━━━━━━━━━━━\u001b[0m\u001b[37m\u001b[0m \u001b[1m40s\u001b[0m 293ms/step - accuracy: 0.8465 - loss: 0.4075 - val_accuracy: 0.7917 - val_loss: 0.6255\n",
      "Epoch 76/100\n",
      "\u001b[1m135/135\u001b[0m \u001b[32m━━━━━━━━━━━━━━━━━━━━\u001b[0m\u001b[37m\u001b[0m \u001b[1m39s\u001b[0m 280ms/step - accuracy: 0.8623 - loss: 0.3994 - val_accuracy: 0.8056 - val_loss: 0.5543\n",
      "Epoch 77/100\n",
      "\u001b[1m135/135\u001b[0m \u001b[32m━━━━━━━━━━━━━━━━━━━━\u001b[0m\u001b[37m\u001b[0m \u001b[1m56s\u001b[0m 408ms/step - accuracy: 0.8688 - loss: 0.3527 - val_accuracy: 0.7750 - val_loss: 0.6198\n",
      "Epoch 78/100\n",
      "\u001b[1m135/135\u001b[0m \u001b[32m━━━━━━━━━━━━━━━━━━━━\u001b[0m\u001b[37m\u001b[0m \u001b[1m62s\u001b[0m 447ms/step - accuracy: 0.8607 - loss: 0.3613 - val_accuracy: 0.8139 - val_loss: 0.5619\n",
      "Epoch 79/100\n",
      "\u001b[1m135/135\u001b[0m \u001b[32m━━━━━━━━━━━━━━━━━━━━\u001b[0m\u001b[37m\u001b[0m \u001b[1m63s\u001b[0m 450ms/step - accuracy: 0.8599 - loss: 0.3647 - val_accuracy: 0.7861 - val_loss: 0.6069\n",
      "Epoch 80/100\n",
      "\u001b[1m135/135\u001b[0m \u001b[32m━━━━━━━━━━━━━━━━━━━━\u001b[0m\u001b[37m\u001b[0m \u001b[1m68s\u001b[0m 494ms/step - accuracy: 0.8592 - loss: 0.3769 - val_accuracy: 0.7889 - val_loss: 0.6335\n",
      "Epoch 81/100\n",
      "\u001b[1m135/135\u001b[0m \u001b[32m━━━━━━━━━━━━━━━━━━━━\u001b[0m\u001b[37m\u001b[0m \u001b[1m79s\u001b[0m 564ms/step - accuracy: 0.8695 - loss: 0.3568 - val_accuracy: 0.7861 - val_loss: 0.7527\n",
      "Epoch 82/100\n",
      "\u001b[1m135/135\u001b[0m \u001b[32m━━━━━━━━━━━━━━━━━━━━\u001b[0m\u001b[37m\u001b[0m \u001b[1m64s\u001b[0m 459ms/step - accuracy: 0.8705 - loss: 0.3601 - val_accuracy: 0.7361 - val_loss: 0.8566\n",
      "Epoch 83/100\n",
      "\u001b[1m135/135\u001b[0m \u001b[32m━━━━━━━━━━━━━━━━━━━━\u001b[0m\u001b[37m\u001b[0m \u001b[1m65s\u001b[0m 467ms/step - accuracy: 0.8729 - loss: 0.3614 - val_accuracy: 0.7722 - val_loss: 0.6537\n",
      "Epoch 84/100\n",
      "\u001b[1m135/135\u001b[0m \u001b[32m━━━━━━━━━━━━━━━━━━━━\u001b[0m\u001b[37m\u001b[0m \u001b[1m65s\u001b[0m 465ms/step - accuracy: 0.8750 - loss: 0.3494 - val_accuracy: 0.8194 - val_loss: 0.5139\n",
      "Epoch 85/100\n",
      "\u001b[1m135/135\u001b[0m \u001b[32m━━━━━━━━━━━━━━━━━━━━\u001b[0m\u001b[37m\u001b[0m \u001b[1m65s\u001b[0m 465ms/step - accuracy: 0.8635 - loss: 0.3512 - val_accuracy: 0.8333 - val_loss: 0.4859\n",
      "Epoch 86/100\n",
      "\u001b[1m135/135\u001b[0m \u001b[32m━━━━━━━━━━━━━━━━━━━━\u001b[0m\u001b[37m\u001b[0m \u001b[1m65s\u001b[0m 465ms/step - accuracy: 0.8689 - loss: 0.3416 - val_accuracy: 0.7889 - val_loss: 0.6302\n",
      "Epoch 87/100\n",
      "\u001b[1m135/135\u001b[0m \u001b[32m━━━━━━━━━━━━━━━━━━━━\u001b[0m\u001b[37m\u001b[0m \u001b[1m64s\u001b[0m 464ms/step - accuracy: 0.8731 - loss: 0.3429 - val_accuracy: 0.8028 - val_loss: 0.5338\n",
      "Epoch 88/100\n",
      "\u001b[1m135/135\u001b[0m \u001b[32m━━━━━━━━━━━━━━━━━━━━\u001b[0m\u001b[37m\u001b[0m \u001b[1m65s\u001b[0m 472ms/step - accuracy: 0.8898 - loss: 0.3105 - val_accuracy: 0.8167 - val_loss: 0.5801\n",
      "Epoch 89/100\n",
      "\u001b[1m135/135\u001b[0m \u001b[32m━━━━━━━━━━━━━━━━━━━━\u001b[0m\u001b[37m\u001b[0m \u001b[1m60s\u001b[0m 430ms/step - accuracy: 0.8885 - loss: 0.3310 - val_accuracy: 0.8000 - val_loss: 0.5357\n",
      "Epoch 90/100\n",
      "\u001b[1m135/135\u001b[0m \u001b[32m━━━━━━━━━━━━━━━━━━━━\u001b[0m\u001b[37m\u001b[0m \u001b[1m63s\u001b[0m 464ms/step - accuracy: 0.8886 - loss: 0.3030 - val_accuracy: 0.7972 - val_loss: 0.6135\n",
      "Epoch 91/100\n",
      "\u001b[1m135/135\u001b[0m \u001b[32m━━━━━━━━━━━━━━━━━━━━\u001b[0m\u001b[37m\u001b[0m \u001b[1m65s\u001b[0m 465ms/step - accuracy: 0.8861 - loss: 0.3281 - val_accuracy: 0.8222 - val_loss: 0.6073\n",
      "Epoch 92/100\n",
      "\u001b[1m135/135\u001b[0m \u001b[32m━━━━━━━━━━━━━━━━━━━━\u001b[0m\u001b[37m\u001b[0m \u001b[1m64s\u001b[0m 457ms/step - accuracy: 0.8906 - loss: 0.2876 - val_accuracy: 0.7861 - val_loss: 0.5734\n",
      "Epoch 93/100\n",
      "\u001b[1m135/135\u001b[0m \u001b[32m━━━━━━━━━━━━━━━━━━━━\u001b[0m\u001b[37m\u001b[0m \u001b[1m65s\u001b[0m 468ms/step - accuracy: 0.8757 - loss: 0.3320 - val_accuracy: 0.8028 - val_loss: 0.5138\n",
      "Epoch 94/100\n",
      "\u001b[1m135/135\u001b[0m \u001b[32m━━━━━━━━━━━━━━━━━━━━\u001b[0m\u001b[37m\u001b[0m \u001b[1m64s\u001b[0m 464ms/step - accuracy: 0.8786 - loss: 0.3387 - val_accuracy: 0.8250 - val_loss: 0.5448\n",
      "Epoch 95/100\n",
      "\u001b[1m135/135\u001b[0m \u001b[32m━━━━━━━━━━━━━━━━━━━━\u001b[0m\u001b[37m\u001b[0m \u001b[1m64s\u001b[0m 458ms/step - accuracy: 0.8738 - loss: 0.3227 - val_accuracy: 0.7917 - val_loss: 0.6183\n",
      "Epoch 96/100\n",
      "\u001b[1m135/135\u001b[0m \u001b[32m━━━━━━━━━━━━━━━━━━━━\u001b[0m\u001b[37m\u001b[0m \u001b[1m64s\u001b[0m 460ms/step - accuracy: 0.8768 - loss: 0.3289 - val_accuracy: 0.7889 - val_loss: 0.6350\n",
      "Epoch 97/100\n",
      "\u001b[1m135/135\u001b[0m \u001b[32m━━━━━━━━━━━━━━━━━━━━\u001b[0m\u001b[37m\u001b[0m \u001b[1m64s\u001b[0m 458ms/step - accuracy: 0.8733 - loss: 0.3290 - val_accuracy: 0.7750 - val_loss: 0.6718\n",
      "Epoch 98/100\n",
      "\u001b[1m135/135\u001b[0m \u001b[32m━━━━━━━━━━━━━━━━━━━━\u001b[0m\u001b[37m\u001b[0m \u001b[1m64s\u001b[0m 457ms/step - accuracy: 0.8853 - loss: 0.3071 - val_accuracy: 0.7833 - val_loss: 0.6470\n",
      "Epoch 99/100\n",
      "\u001b[1m135/135\u001b[0m \u001b[32m━━━━━━━━━━━━━━━━━━━━\u001b[0m\u001b[37m\u001b[0m \u001b[1m31s\u001b[0m 215ms/step - accuracy: 0.8931 - loss: 0.2903 - val_accuracy: 0.7972 - val_loss: 0.5160\n",
      "Epoch 100/100\n",
      "\u001b[1m135/135\u001b[0m \u001b[32m━━━━━━━━━━━━━━━━━━━━\u001b[0m\u001b[37m\u001b[0m \u001b[1m34s\u001b[0m 243ms/step - accuracy: 0.8581 - loss: 0.3478 - val_accuracy: 0.7500 - val_loss: 0.8055\n"
     ]
    }
   ],
   "source": [
    "model_fit = model.fit(train_generator, epochs = 100, \n",
    "                      validation_data = test_generator, callbacks=[tb_callback])"
   ]
  }
 ],
 "metadata": {
  "kernelspec": {
   "display_name": "Python 3 (ipykernel)",
   "language": "python",
   "name": "python3"
  },
  "language_info": {
   "codemirror_mode": {
    "name": "ipython",
    "version": 3
   },
   "file_extension": ".py",
   "mimetype": "text/x-python",
   "name": "python",
   "nbconvert_exporter": "python",
   "pygments_lexer": "ipython3",
   "version": "3.11.8"
  }
 },
 "nbformat": 4,
 "nbformat_minor": 5
}
