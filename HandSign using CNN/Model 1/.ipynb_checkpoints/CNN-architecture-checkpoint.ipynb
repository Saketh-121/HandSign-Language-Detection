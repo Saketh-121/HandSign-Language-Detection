{
 "cells": [
  {
   "cell_type": "code",
   "execution_count": 1,
   "id": "a54728eb-143f-4e8f-a877-a081a6f00a8a",
   "metadata": {},
   "outputs": [],
   "source": [
    "import numpy as np\n",
    "import pandas as pd\n",
    "import random\n",
    "import matplotlib.pyplot as plt\n",
    "import tensorflow as tf\n",
    "from tensorflow.keras.preprocessing.image import ImageDataGenerator\n",
    "from tensorflow.keras.models import Sequential\n",
    "from keras.layers import Convolution2D as Conv2D\n",
    "from keras.layers import MaxPooling2D, Dense, Flatten"
   ]
  },
  {
   "cell_type": "code",
   "execution_count": 2,
   "id": "8366623e-096e-4efe-a6c4-8ac7dd3c0d8e",
   "metadata": {},
   "outputs": [],
   "source": [
    "df_train = pd.read_csv('sign_mnist_train.csv')\n",
    "df_test = pd.read_csv('sign_mnist_test.csv')\n",
    "Y_train = df_train.iloc[:, 0].values\n",
    "X_train = df_train.iloc[:, 1:].values\n",
    "Y_test = df_test.iloc[:, 0].values\n",
    "X_test = df_test.iloc[:, 1:].values\n"
   ]
  },
  {
   "cell_type": "code",
   "execution_count": 3,
   "id": "89629948-df87-452c-a0af-3ef4bc0bec3f",
   "metadata": {},
   "outputs": [],
   "source": [
    "X_train = np.reshape(X_train, (27455,28,28))\n",
    "Y_train = np.reshape(Y_train, (27455,1))\n",
    "\n",
    "X_test = np.reshape(X_test, (7172,28,28))\n",
    "Y_test = np.reshape(Y_test, (7172,1))\n",
    "\n",
    "\n",
    "X_train = X_train/255.0\n",
    "X_test = X_test/255.0"
   ]
  },
  {
   "cell_type": "code",
   "execution_count": 4,
   "id": "600aa867-7c5e-4d91-9e30-47aed94a845e",
   "metadata": {},
   "outputs": [
    {
     "name": "stdout",
     "output_type": "stream",
     "text": [
      "Shape of X_train:  (27455, 28, 28)\n",
      "Shape of Y_train:  (27455, 1)\n",
      "Shape of X_test:  (7172, 28, 28)\n",
      "Shape of Y_test:  (7172, 1)\n"
     ]
    }
   ],
   "source": [
    "print(\"Shape of X_train: \", X_train.shape)\n",
    "print(\"Shape of Y_train: \", Y_train.shape)\n",
    "print(\"Shape of X_test: \", X_test.shape)\n",
    "print(\"Shape of Y_test: \", Y_test.shape)"
   ]
  },
  {
   "cell_type": "code",
   "execution_count": 5,
   "id": "816b3d44-7432-44c3-8514-38ab4b3c634a",
   "metadata": {},
   "outputs": [
    {
     "data": {
      "text/plain": [
       "array([[[0.49411765, 0.50196078, 0.51372549, ..., 0.52156863,\n",
       "         0.5254902 , 0.51764706],\n",
       "        [0.50588235, 0.51764706, 0.5254902 , ..., 0.53333333,\n",
       "         0.53333333, 0.5254902 ],\n",
       "        [0.52156863, 0.52941176, 0.54117647, ..., 0.54901961,\n",
       "         0.54509804, 0.54117647],\n",
       "        ...,\n",
       "        [0.67843137, 0.68235294, 0.69411765, ..., 0.72156863,\n",
       "         0.71372549, 0.70980392],\n",
       "        [0.6745098 , 0.68235294, 0.69411765, ..., 0.72156863,\n",
       "         0.71372549, 0.70980392],\n",
       "        [0.6745098 , 0.68235294, 0.69411765, ..., 0.72156863,\n",
       "         0.71372549, 0.70588235]],\n",
       "\n",
       "       [[0.33333333, 0.34509804, 0.36078431, ..., 0.71372549,\n",
       "         0.70980392, 0.69803922],\n",
       "        [0.3372549 , 0.34509804, 0.36470588, ..., 0.71764706,\n",
       "         0.70980392, 0.70196078],\n",
       "        [0.3372549 , 0.34901961, 0.36470588, ..., 0.7254902 ,\n",
       "         0.71764706, 0.70980392],\n",
       "        ...,\n",
       "        [0.35686275, 0.36862745, 0.38039216, ..., 0.87843137,\n",
       "         0.87058824, 0.86666667],\n",
       "        [0.35294118, 0.36078431, 0.37647059, ..., 0.88235294,\n",
       "         0.87843137, 0.87058824],\n",
       "        [0.34901961, 0.35686275, 0.36862745, ..., 0.88235294,\n",
       "         0.87843137, 0.87058824]],\n",
       "\n",
       "       [[0.79607843, 0.80392157, 0.81176471, ..., 0.81568627,\n",
       "         0.81960784, 0.81176471],\n",
       "        [0.80784314, 0.81568627, 0.81960784, ..., 0.82745098,\n",
       "         0.82352941, 0.82352941],\n",
       "        [0.81960784, 0.81960784, 0.82352941, ..., 0.81960784,\n",
       "         0.82745098, 0.83137255],\n",
       "        ...,\n",
       "        [0.39215686, 0.39607843, 0.39215686, ..., 0.92941176,\n",
       "         0.89803922, 0.8       ],\n",
       "        [0.39607843, 0.39215686, 0.39215686, ..., 0.96078431,\n",
       "         0.98039216, 0.90980392],\n",
       "        [0.40392157, 0.39607843, 0.4       , ..., 0.94117647,\n",
       "         0.99215686, 1.        ]],\n",
       "\n",
       "       ...,\n",
       "\n",
       "       [[0.74509804, 0.74901961, 0.74509804, ..., 0.7254902 ,\n",
       "         0.72156863, 0.71764706],\n",
       "        [0.75686275, 0.75686275, 0.75686275, ..., 0.72941176,\n",
       "         0.7254902 , 0.72156863],\n",
       "        [0.76470588, 0.76078431, 0.76470588, ..., 0.73333333,\n",
       "         0.72941176, 0.73333333],\n",
       "        ...,\n",
       "        [0.83921569, 0.84313725, 0.83529412, ..., 0.81568627,\n",
       "         0.81568627, 0.81568627],\n",
       "        [0.83921569, 0.84313725, 0.81960784, ..., 0.81960784,\n",
       "         0.81568627, 0.81176471],\n",
       "        [0.84313725, 0.84313725, 0.81176471, ..., 0.82745098,\n",
       "         0.81960784, 0.81568627]],\n",
       "\n",
       "       [[0.78823529, 0.80392157, 0.81568627, ..., 0.9372549 ,\n",
       "         0.9372549 , 0.9372549 ],\n",
       "        [0.80784314, 0.81960784, 0.83137255, ..., 0.94901961,\n",
       "         0.94901961, 0.94901961],\n",
       "        [0.82352941, 0.83921569, 0.84705882, ..., 0.96470588,\n",
       "         0.96078431, 0.95686275],\n",
       "        ...,\n",
       "        [1.        , 1.        , 1.        , ..., 1.        ,\n",
       "         0.78431373, 0.55686275],\n",
       "        [1.        , 1.        , 1.        , ..., 0.38823529,\n",
       "         0.31372549, 0.30196078],\n",
       "        [1.        , 1.        , 1.        , ..., 0.2627451 ,\n",
       "         0.2745098 , 0.24705882]],\n",
       "\n",
       "       [[0.67843137, 0.68235294, 0.67843137, ..., 0.65882353,\n",
       "         0.65490196, 0.65098039],\n",
       "        [0.69019608, 0.69019608, 0.69019608, ..., 0.65882353,\n",
       "         0.65882353, 0.65490196],\n",
       "        [0.69803922, 0.69411765, 0.69803922, ..., 0.6627451 ,\n",
       "         0.65882353, 0.6627451 ],\n",
       "        ...,\n",
       "        [0.77647059, 0.78039216, 0.78039216, ..., 0.75294118,\n",
       "         0.75294118, 0.75294118],\n",
       "        [0.77647059, 0.78431373, 0.75686275, ..., 0.75686275,\n",
       "         0.75294118, 0.74901961],\n",
       "        [0.78039216, 0.78823529, 0.74509804, ..., 0.76470588,\n",
       "         0.75686275, 0.75294118]]])"
      ]
     },
     "execution_count": 5,
     "metadata": {},
     "output_type": "execute_result"
    }
   ],
   "source": [
    "X_test[1:]"
   ]
  },
  {
   "cell_type": "code",
   "execution_count": 6,
   "id": "208c75e9-15c1-4d7f-9b3b-ab39aa4ecfc4",
   "metadata": {
    "scrolled": true
   },
   "outputs": [
    {
     "data": {
      "image/png": "[encoded data removed]",
      "text/plain": [
       "<Figure size 640x480 with 1 Axes>"
      ]
     },
     "metadata": {},
     "output_type": "display_data"
    }
   ],
   "source": [
    "idx =random.randint(0, len(X_train))\n",
    "plt.imshow(X_train[idx, : ])\n",
    "plt.show()"
   ]
  },
  {
   "cell_type": "markdown",
   "id": "eea42ac8-8dd8-45ae-b0ed-c12fc0d3a9d3",
   "metadata": {},
   "source": [
    "**MODEL**"
   ]
  },
  {
   "cell_type": "code",
   "execution_count": 7,
   "id": "abad05aa-2c49-49f8-a988-3202e65a9e61",
   "metadata": {},
   "outputs": [
    {
     "name": "stderr",
     "output_type": "stream",
     "text": [
      "C:\\Users\\saket\\AppData\\Local\\Programs\\Python\\Python311\\Lib\\site-packages\\keras\\src\\layers\\convolutional\\base_conv.py:99: UserWarning: Do not pass an `input_shape`/`input_dim` argument to a layer. When using Sequential models, prefer using an `Input(shape)` object as the first layer in the model instead.\n",
      "  super().__init__(\n"
     ]
    }
   ],
   "source": [
    "model = Sequential([\n",
    "                    Conv2D(32, (2,2), activation='relu', input_shape = (28,28,1)),\n",
    "                    MaxPooling2D((2,2)),\n",
    "                    \n",
    "                    Conv2D(32, (2,2), activation= 'relu'),\n",
    "                    MaxPooling2D((2,2)),\n",
    "\n",
    "                    Flatten(),\n",
    "                    Dense(64, activation= 'relu'),\n",
    "                    Dense(24, activation = 'softmax')                      \n",
    "                           \n",
    "                           ])  "
   ]
  },
  {
   "cell_type": "code",
   "execution_count": 8,
   "id": "0689fa83-71a8-4067-97f2-d65930b0a090",
   "metadata": {},
   "outputs": [],
   "source": [
    "model.compile(loss = 'categorical_crossentropy', optimizer = 'adam', metrics = ['accuracy'])"
   ]
  },
  {
   "cell_type": "code",
   "execution_count": 9,
   "id": "81230bed-c263-423d-81ec-141cd82a0a31",
   "metadata": {},
   "outputs": [],
   "source": [
    "from sklearn.preprocessing import OneHotEncoder\n",
    "\n",
    "# Assuming y_train is your target labels\n",
    "# y_train should be a 1D array with values from 0 to 23 (for 24 classes)\n",
    "encoder = OneHotEncoder(categories='auto')\n",
    "Y_train_encoded = encoder.fit_transform(Y_train.reshape(-1, 1)).toarray()"
   ]
  },
  {
   "cell_type": "code",
   "execution_count": 10,
   "id": "79194206-7130-40db-8cd2-82e0a979b3bd",
   "metadata": {},
   "outputs": [
    {
     "name": "stdout",
     "output_type": "stream",
     "text": [
      "Epoch 1/4\n",
      "\u001b[1m858/858\u001b[0m \u001b[32m━━━━━━━━━━━━━━━━━━━━\u001b[0m\u001b[37m\u001b[0m \u001b[1m4s\u001b[0m 3ms/step - accuracy: 0.3732 - loss: 2.1213\n",
      "Epoch 2/4\n",
      "\u001b[1m858/858\u001b[0m \u001b[32m━━━━━━━━━━━━━━━━━━━━\u001b[0m\u001b[37m\u001b[0m \u001b[1m3s\u001b[0m 3ms/step - accuracy: 0.9218 - loss: 0.2665\n",
      "Epoch 3/4\n",
      "\u001b[1m858/858\u001b[0m \u001b[32m━━━━━━━━━━━━━━━━━━━━\u001b[0m\u001b[37m\u001b[0m \u001b[1m2s\u001b[0m 3ms/step - accuracy: 0.9860 - loss: 0.0687\n",
      "Epoch 4/4\n",
      "\u001b[1m858/858\u001b[0m \u001b[32m━━━━━━━━━━━━━━━━━━━━\u001b[0m\u001b[37m\u001b[0m \u001b[1m2s\u001b[0m 3ms/step - accuracy: 0.9972 - loss: 0.0234\n"
     ]
    },
    {
     "data": {
      "text/plain": [
       "<keras.src.callbacks.history.History at 0x27ff15d1ed0>"
      ]
     },
     "execution_count": 10,
     "metadata": {},
     "output_type": "execute_result"
    }
   ],
   "source": [
    "model.fit(X_train, Y_train_encoded, epochs= 4, batch_size = 32)"
   ]
  },
  {
   "cell_type": "code",
   "execution_count": 13,
   "id": "cace2b93-0532-4af6-a16d-18bb82799297",
   "metadata": {},
   "outputs": [],
   "source": [
    "from sklearn.preprocessing import OneHotEncoder\n",
    "\n",
    "# Assuming y_train is your target labels\n",
    "# y_train should be a 1D array with values from 0 to 23 (for 24 classes)\n",
    "encoder = OneHotEncoder(categories='auto')\n",
    "Y_test_encoded = encoder.fit_transform(Y_test.reshape(-1, 1)).toarray()"
   ]
  },
  {
   "cell_type": "code",
   "execution_count": 15,
   "id": "82c4e567-c223-4b71-9b57-74df197fc973",
   "metadata": {},
   "outputs": [
    {
     "name": "stdout",
     "output_type": "stream",
     "text": [
      "\u001b[1m225/225\u001b[0m \u001b[32m━━━━━━━━━━━━━━━━━━━━\u001b[0m\u001b[37m\u001b[0m \u001b[1m0s\u001b[0m 1ms/step - accuracy: 0.8710 - loss: 0.6700\n"
     ]
    },
    {
     "data": {
      "text/plain": [
       "[0.6605646014213562, 0.8690741658210754]"
      ]
     },
     "execution_count": 15,
     "metadata": {},
     "output_type": "execute_result"
    }
   ],
   "source": [
    "model.evaluate(X_test, Y_test_encoded)"
   ]
  },
  {
   "cell_type": "markdown",
   "id": "b43f94b6-6acd-46ee-9d33-d45afb92d215",
   "metadata": {},
   "source": [
    "**Making Predictions**"
   ]
  },
  {
   "cell_type": "code",
   "execution_count": 17,
   "id": "234f8a3c-93ea-474b-aa6c-17b0641a459b",
   "metadata": {},
   "outputs": [
    {
     "name": "stdout",
     "output_type": "stream",
     "text": [
      "Collecting seaborn\n",
      "  Downloading seaborn-0.13.2-py3-none-any.whl.metadata (5.4 kB)\n",
      "Requirement already satisfied: numpy!=1.24.0,>=1.20 in c:\\users\\saket\\appdata\\local\\programs\\python\\python311\\lib\\site-packages (from seaborn) (1.26.4)\n",
      "Requirement already satisfied: pandas>=1.2 in c:\\users\\saket\\appdata\\local\\programs\\python\\python311\\lib\\site-packages (from seaborn) (2.2.2)\n",
      "Requirement already satisfied: matplotlib!=3.6.1,>=3.4 in c:\\users\\saket\\appdata\\local\\programs\\python\\python311\\lib\\site-packages (from seaborn) (3.8.3)\n",
      "Requirement already satisfied: contourpy>=1.0.1 in c:\\users\\saket\\appdata\\local\\programs\\python\\python311\\lib\\site-packages (from matplotlib!=3.6.1,>=3.4->seaborn) (1.2.0)\n",
      "Requirement already satisfied: cycler>=0.10 in c:\\users\\saket\\appdata\\local\\programs\\python\\python311\\lib\\site-packages (from matplotlib!=3.6.1,>=3.4->seaborn) (0.12.1)\n",
      "Requirement already satisfied: fonttools>=4.22.0 in c:\\users\\saket\\appdata\\local\\programs\\python\\python311\\lib\\site-packages (from matplotlib!=3.6.1,>=3.4->seaborn) (4.50.0)\n",
      "Requirement already satisfied: kiwisolver>=1.3.1 in c:\\users\\saket\\appdata\\local\\programs\\python\\python311\\lib\\site-packages (from matplotlib!=3.6.1,>=3.4->seaborn) (1.4.5)\n",
      "Requirement already satisfied: packaging>=20.0 in c:\\users\\saket\\appdata\\local\\programs\\python\\python311\\lib\\site-packages (from matplotlib!=3.6.1,>=3.4->seaborn) (24.0)\n",
      "Requirement already satisfied: pillow>=8 in c:\\users\\saket\\appdata\\local\\programs\\python\\python311\\lib\\site-packages (from matplotlib!=3.6.1,>=3.4->seaborn) (10.2.0)\n",
      "Requirement already satisfied: pyparsing>=2.3.1 in c:\\users\\saket\\appdata\\local\\programs\\python\\python311\\lib\\site-packages (from matplotlib!=3.6.1,>=3.4->seaborn) (3.1.2)\n",
      "Requirement already satisfied: python-dateutil>=2.7 in c:\\users\\saket\\appdata\\local\\programs\\python\\python311\\lib\\site-packages (from matplotlib!=3.6.1,>=3.4->seaborn) (2.9.0.post0)\n",
      "Requirement already satisfied: pytz>=2020.1 in c:\\users\\saket\\appdata\\local\\programs\\python\\python311\\lib\\site-packages (from pandas>=1.2->seaborn) (2024.1)\n",
      "Requirement already satisfied: tzdata>=2022.7 in c:\\users\\saket\\appdata\\local\\programs\\python\\python311\\lib\\site-packages (from pandas>=1.2->seaborn) (2024.1)\n",
      "Requirement already satisfied: six>=1.5 in c:\\users\\saket\\appdata\\local\\programs\\python\\python311\\lib\\site-packages (from python-dateutil>=2.7->matplotlib!=3.6.1,>=3.4->seaborn) (1.16.0)\n",
      "Downloading seaborn-0.13.2-py3-none-any.whl (294 kB)\n",
      "   ---------------------------------------- 0.0/294.9 kB ? eta -:--:--\n",
      "   - -------------------------------------- 10.2/294.9 kB ? eta -:--:--\n",
      "   - -------------------------------------- 10.2/294.9 kB ? eta -:--:--\n",
      "   ----- --------------------------------- 41.0/294.9 kB 326.8 kB/s eta 0:00:01\n",
      "   ------------ -------------------------- 92.2/294.9 kB 581.0 kB/s eta 0:00:01\n",
      "   ------------ -------------------------- 92.2/294.9 kB 581.0 kB/s eta 0:00:01\n",
      "   -------------- ----------------------- 112.6/294.9 kB 467.6 kB/s eta 0:00:01\n",
      "   --------------- ---------------------- 122.9/294.9 kB 450.6 kB/s eta 0:00:01\n",
      "   ------------------ ------------------- 143.4/294.9 kB 405.9 kB/s eta 0:00:01\n",
      "   ------------------------- ------------ 194.6/294.9 kB 491.5 kB/s eta 0:00:01\n",
      "   ------------------------- ------------ 194.6/294.9 kB 491.5 kB/s eta 0:00:01\n",
      "   ------------------------------- ------ 245.8/294.9 kB 502.2 kB/s eta 0:00:01\n",
      "   -------------------------------------- 294.9/294.9 kB 569.3 kB/s eta 0:00:00\n",
      "Installing collected packages: seaborn\n",
      "Successfully installed seaborn-0.13.2\n",
      "Note: you may need to restart the kernel to use updated packages.\n"
     ]
    }
   ],
   "source": [
    "pip install seaborn"
   ]
  },
  {
   "cell_type": "code",
   "execution_count": 34,
   "id": "3e5dba91-b7c3-4e09-ac0c-0e14b04117e8",
   "metadata": {},
   "outputs": [
    {
     "name": "stdout",
     "output_type": "stream",
     "text": [
      "\u001b[1m225/225\u001b[0m \u001b[32m━━━━━━━━━━━━━━━━━━━━\u001b[0m\u001b[37m\u001b[0m \u001b[1m0s\u001b[0m 1ms/step\n",
      "[[331   0   0   0   0   0   0   0   0   0   0   0   0   0   0   0   0   0\n",
      "    0   0   0   0   0   0   0]\n",
      " [  0 422   0   1   0   0   0   0   0   8   0   0   0   0   0   0   0   0\n",
      "    0   0   0   1   0   0   0]\n",
      " [  0   0 289   0   0  21   0   0   0   0   0   0   0   0   0   0   0   0\n",
      "    0   0   0   0   0   0   0]\n",
      " [  0   0   0 222   3   0   0   0   0   0   0   0   0   0   0   0  16   0\n",
      "    0   0   0   0   4   0   0]\n",
      " [  0   0   0   0 465   0   0   0   0   0   0   0  21   0   0   0   0  12\n",
      "    0   0   0   0   0   0   0]\n",
      " [  0   0   0   0   0 246   0   0   0   0   0   0   0   0   0   0   0   0\n",
      "    1   0   0   0   0   0   0]\n",
      " [  0   0   0   0   0   0 303  25   0   0   0   0   0   0   3  17   0   0\n",
      "    0   0   0   0   0   0   0]\n",
      " [  0   0   0   0   0   0  40 387   0   0   0   9   0   0   0   0   0   0\n",
      "    0   0   0   0   0   0   0]\n",
      " [  0   0   0   0   0   1   0   0 233   0   0   0   0   0   0  13  21   0\n",
      "    0   0   0   0   0  20   0]\n",
      " [  0   0   0   0   0   0   0   0   0   0   0   0   0   0   0   0   0   0\n",
      "    0   0   0   0   0   0   0]\n",
      " [  0   0   0   0   0   0   0   0   0 232   0   0   0   0  19   0  24  18\n",
      "    0  20   0  18   0   0   0]\n",
      " [  0   0   0   0   0   0   0   0   0   0 209   0   0   0   0   0   0   0\n",
      "    0   0   0   0   0   0   0]\n",
      " [  0   0  11   0  20   0   0   0   0   0   0 320  22   0   0   0   0  21\n",
      "    0   0   0   0   0   0   0]\n",
      " [ 21   0   0  20   0   0   0   0   0   0   0  10 199   0   0   1   0  28\n",
      "   12   0   0   0   0   0   0]\n",
      " [  0   0  19   0  13   8   0   0   0   0   0   0  22 155   0   0   0  11\n",
      "   10   0   0   0   8   0   0]\n",
      " [  0   0   0   0   0   0   0   0   0   0   0   0   0   0 347   0   0   0\n",
      "    0   0   0   0   0   0   0]\n",
      " [  9   0   0   0   0   0   0   0   0   0   0   0   0   0  11 144   0   0\n",
      "    0   0   0   0   0   0   0]\n",
      " [  0   0   0   0   0   0   0   0   0   1   0   0   0   0   0   0 100   0\n",
      "    0  22  21   0   0   0   0]\n",
      " [  0   0   0   0  31   0   0   0   0   0   0  21  20   0   0   0   0 174\n",
      "    0   0   0   0   0   0   0]\n",
      " [  0   0   0   0   0   0   1  28   0   0   0   0   0   0   0   0   0   0\n",
      "  172   2   0   0  24  21   0]\n",
      " [  0   0   0  25   0   0   0   0   0   4   0   0   0   0   0   0   2   0\n",
      "    0 235   0   0   0   0   0]\n",
      " [  0   0   0   0   0   0   0   0   0   0   0   0   0   0   0   0  20   0\n",
      "    0   0 326   0   0   0   0]\n",
      " [  0   0   0   0   0   0   0   0   0   0   0   0   0   0   0   0   0   0\n",
      "    0   0  22 184   0   0   0]\n",
      " [  0   0   0   0   0   0   0   0   0   0   0   0   0   0   0   0   0   0\n",
      "   21   0   0   1 245   0   0]\n",
      " [  0   0   0   0   0   0   0   0   0   0   0   0   0   0   0   0   0  39\n",
      "    0   0   0   0   0 293   0]]\n"
     ]
    },
    {
     "data": {
      "text/plain": [
       "(25, 25)"
      ]
     },
     "execution_count": 34,
     "metadata": {},
     "output_type": "execute_result"
    }
   ],
   "source": [
    "from sklearn.metrics import confusion_matrix\n",
    "import seaborn as sns\n",
    "import matplotlib.pyplot as plt\n",
    "\n",
    "# Calculate confusion matrix\n",
    "\n",
    "'''Y_true = Y_test_encoded\n",
    "Y_pred = model.predict(X_test)\n",
    "cm = confusion_matrix(Y_true, Y_pred)\n",
    "\n",
    "plt.figure(figsize=(10, 8))\n",
    "sns.heatmap(cm, annot=True, fmt='d', cmap='Blues', xticklabels=range(24), yticklabels=range(24))\n",
    "plt.xlabel('Predicted labels')\n",
    "plt.ylabel('True labels')\n",
    "plt.title('Confusion Matrix')\n",
    "plt.show()'''\n",
    "\n",
    "y_pred=model.predict(X_test) \n",
    "y_pred=np.argmax(y_pred, axis=1)\n",
    "y_test=np.argmax(Y_test, axis=1)\n",
    "cm = confusion_matrix(Y_test, y_pred)\n",
    "print(cm)\n",
    "\n",
    "np.shape(cm)\n",
    "#multilabel_confusion_matrix(Y_true, Y_pred)"
   ]
  },
  {
   "cell_type": "code",
   "execution_count": null,
   "id": "368c838d-70db-4441-9e39-4d49a354c68b",
   "metadata": {},
   "outputs": [],
   "source": []
  }
 ],
 "metadata": {
  "kernelspec": {
   "display_name": "Python 3 (ipykernel)",
   "language": "python",
   "name": "python3"
  },
  "language_info": {
   "codemirror_mode": {
    "name": "ipython",
    "version": 3
   },
   "file_extension": ".py",
   "mimetype": "text/x-python",
   "name": "python",
   "nbconvert_exporter": "python",
   "pygments_lexer": "ipython3",
   "version": "3.11.8"
  }
 },
 "nbformat": 4,
 "nbformat_minor": 5
}
